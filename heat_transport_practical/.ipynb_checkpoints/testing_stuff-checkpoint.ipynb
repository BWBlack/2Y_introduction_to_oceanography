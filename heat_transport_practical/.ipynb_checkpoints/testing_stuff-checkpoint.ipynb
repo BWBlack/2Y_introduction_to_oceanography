{
 "cells": [
  {
   "cell_type": "code",
   "execution_count": 1,
   "id": "956e5de0-47f7-4ee0-88c6-dc4ab717bc57",
   "metadata": {},
   "outputs": [],
   "source": [
    "import xarray as xr\n",
    "import ecco_v4_py as ecco\n",
    "import requests"
   ]
  },
  {
   "cell_type": "code",
   "execution_count": 4,
   "id": "34495f8f-cd0d-4403-b3f0-a41e00d95bcf",
   "metadata": {},
   "outputs": [],
   "source": [
    "ds =xr.open_data"
   ]
  }
 ],
 "metadata": {
  "kernelspec": {
   "display_name": "Python 3 (ipykernel)",
   "language": "python",
   "name": "python3"
  },
  "language_info": {
   "codemirror_mode": {
    "name": "ipython",
    "version": 3
   },
   "file_extension": ".py",
   "mimetype": "text/x-python",
   "name": "python",
   "nbconvert_exporter": "python",
   "pygments_lexer": "ipython3",
   "version": "3.8.15"
  }
 },
 "nbformat": 4,
 "nbformat_minor": 5
}
