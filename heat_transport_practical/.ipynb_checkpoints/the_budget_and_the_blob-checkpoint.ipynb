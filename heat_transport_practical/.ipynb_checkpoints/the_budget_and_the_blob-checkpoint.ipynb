{
 "cells": [
  {
   "cell_type": "markdown",
   "id": "550c97f6-cd07-43b2-b942-437568e8625d",
   "metadata": {},
   "source": [
    "# Investigating the 2013-2014 marine heatwave in the North-East Pacific"
   ]
  },
  {
   "cell_type": "markdown",
   "id": "6bc6e28c-6b33-44d1-bb41-21696f8ffe88",
   "metadata": {},
   "source": [
    "At the beginning of 2013, it was noticed that somthing fishy was a foot..."
   ]
  },
  {
   "cell_type": "markdown",
   "id": "a2fdd8ad-ae39-49b1-acfd-9ff859063b74",
   "metadata": {},
   "source": [
    "<img src=\"figures_used/0201newsfeature_pacificblob_globe5.jpg\" width=\"400\" height=\"400\" align=\"center\">"
   ]
  },
  {
   "cell_type": "markdown",
   "id": "11c13b3f-ecef-4256-b470-d346ce3a493d",
   "metadata": {},
   "source": [
    "### The immediate impact\n",
    "\n",
    "The ecological impact of this event was severe. To begin with, and not worrying about the causal mechanisms for the moment, let's consider what sort of impacts we would expect, just from increasing the heat content of some volume of ocean"
   ]
  },
  {
   "cell_type": "markdown",
   "id": "18cfb51f-95b1-47bd-90d3-5e570caa0152",
   "metadata": {},
   "source": [
    "### Getting used to Python - a very brief introduction\n",
    "\n",
    "Different fields in science often adopt different tools, even when they all broadly do the same thing. In oceanography it is now common to work in Python, so many of the computational tools available to us are written in Python. But as most of you will not have used it yet, I thought it would be useful just to give a short overview of the main features. And, how it differs from R and MATLAB.\n"
   ]
  },
  {
   "cell_type": "markdown",
   "id": "83044b91-2486-4398-ba3f-d32e25e7885e",
   "metadata": {},
   "source": [
    "### Loading the ECCO data "
   ]
  },
  {
   "cell_type": "markdown",
   "id": "4af1b25c-5e3b-4955-a676-b112cde081b8",
   "metadata": {},
   "source": [
    "### The sea-surface temperature evolution "
   ]
  },
  {
   "cell_type": "markdown",
   "id": "b57b6821-ab94-45ae-adad-a7f867898f0b",
   "metadata": {},
   "source": [
    "### Disentangling cause and effect - the surface heat flux evolution"
   ]
  }
 ],
 "metadata": {
  "kernelspec": {
   "display_name": "Python 3 (ipykernel)",
   "language": "python",
   "name": "python3"
  },
  "language_info": {
   "codemirror_mode": {
    "name": "ipython",
    "version": 3
   },
   "file_extension": ".py",
   "mimetype": "text/x-python",
   "name": "python",
   "nbconvert_exporter": "python",
   "pygments_lexer": "ipython3",
   "version": "3.8.15"
  }
 },
 "nbformat": 4,
 "nbformat_minor": 5
}
