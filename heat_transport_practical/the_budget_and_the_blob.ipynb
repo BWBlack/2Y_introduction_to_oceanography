{
 "cells": [
  {
   "cell_type": "markdown",
   "id": "550c97f6-cd07-43b2-b942-437568e8625d",
   "metadata": {},
   "source": [
    "<h1 style=\"text-align: center;\">Investigating the 2013-2014 marine heatwave in the North-East Pacific</h1>"
   ]
  },
  {
   "cell_type": "markdown",
   "id": "6bc6e28c-6b33-44d1-bb41-21696f8ffe88",
   "metadata": {},
   "source": [
    "Towards the end of 2013 a large and apparently growing mass of warm water formed in the North-Eastern Pacific ocean. By 'warmer', I mean the sea water temperature was a few degrees away from the temperatures expected of the region at that time of year. \n",
    "\n",
    "This was also considerably warmer the year-on-year warming caused by a globally warming climate. \n",
    "\n",
    "The mass was named \"The Blob\" by Nick Bond, a climate scientist in the University of Washington - who decided to give a nod to the 1958 horror film of that name. It's about an unstoppable mass that keeps growing and destroys everything in it's path. Subtle."
   ]
  },
  {
   "cell_type": "markdown",
   "id": "a2fdd8ad-ae39-49b1-acfd-9ff859063b74",
   "metadata": {},
   "source": [
    "<table><tr>\n",
    "<td> <img src=\"figures_used/0201newsfeature_pacificblob_globe5.jpg\" alt=\"Drawing\" style=\"width: 400px; height: 383px\"/> </td>\n",
    "<td> <img src=\"figures_used/The_Blob_(1958)_theatrical_poster.jpg\" alt=\"Drawing\" style=\"width: 250px; height:\"/> </td>\n",
    "</tr></table>"
   ]
  },
  {
   "cell_type": "markdown",
   "id": "49888fec-6e17-4bda-b6dd-6ff41004a64b",
   "metadata": {},
   "source": [
    "At it's peak, the anomaly stretched from the Gulf of Alaska to Baja California. And did something mighty strange to the critters"
   ]
  },
  {
   "cell_type": "markdown",
   "id": "11c13b3f-ecef-4256-b470-d346ce3a493d",
   "metadata": {},
   "source": [
    "### The immediate impact\n",
    "\n",
    "The ecological impact of this event was severe. To begin with, and not worrying about the causal mechanisms for the moment, let's consider what sort of impacts we would expect, just from increasing the heat content of some volume of ocean\n",
    "\n",
    "And there were effects felt on land. The larger-than-usual reservoir of heat off-shore may have contributed to increased thunderstorm and lightning activity ()."
   ]
  },
  {
   "cell_type": "markdown",
   "id": "18cfb51f-95b1-47bd-90d3-5e570caa0152",
   "metadata": {},
   "source": [
    "### Getting used to Python - a very brief introduction\n",
    "\n",
    "Different fields in science often adopt different tools, even when they all broadly do the same thing. In oceanography it is now common to work in Python, so many of the computational tools available to us are written in Python. But as most of you will not have used it yet, I thought it would be useful just to give a short overview of the main features you need to know about here. I'll also point out a few things you should when using IPython notebooks like this. \n",
    "\n",
    "First off, this notebook is composed of cells. Each box you can see is a cell, and you can run the code in them independently of one another, or run them all at once. \n",
    "\n",
    "This cell is a markdown cell. What does that mean? Markdown is a kind of coding language to \"just write things\", such as this text. The cell below is a code cell, which can actually execute commands.\n"
   ]
  },
  {
   "cell_type": "code",
   "execution_count": 2,
   "id": "17c6f195-651f-4789-ac53-163915cad07c",
   "metadata": {},
   "outputs": [
    {
     "data": {
      "text/plain": [
       "<module 'numpy' from 'C:\\\\Users\\\\uv20102\\\\Anaconda3\\\\envs\\\\CMIP6_field_analysis_env\\\\lib\\\\site-packages\\\\numpy\\\\__init__.py'>"
      ]
     },
     "execution_count": 2,
     "metadata": {},
     "output_type": "execute_result"
    }
   ],
   "source": [
    "# loading modules\n",
    "\n",
    "# In Python, when we need a particular module we load using an 'import' statement, usually at the beginning of the notebook/script.\n",
    "# for example, the Python numerical module numpy:\n",
    "import numpy as np\n",
    "\n",
    "# I've also given this import an alias with the 'as' statement. This means we can use a short name to call a module with a long \n",
    "# name.\n",
    "np"
   ]
  },
  {
   "cell_type": "markdown",
   "id": "635ac814-cf78-4df8-a0a1-e508fe49f8a0",
   "metadata": {},
   "source": [
    "But if we want to do anything, we also need to define **variables**,"
   ]
  },
  {
   "cell_type": "code",
   "execution_count": 3,
   "id": "6c7a9596-efba-4030-a5ba-be66b5b9ecf1",
   "metadata": {},
   "outputs": [
    {
     "data": {
      "text/plain": [
       "17"
      ]
     },
     "execution_count": 3,
     "metadata": {},
     "output_type": "execute_result"
    }
   ],
   "source": [
    "# variables - an object that can take on different values, types ect. That we can also do things to\n",
    "\n",
    "# for example:\n",
    "var_a = 17\n",
    "# so var_a is just the number 17\n",
    "var_a"
   ]
  },
  {
   "cell_type": "code",
   "execution_count": 4,
   "id": "99e8b33d-520d-441c-a195-2f93d9aa8960",
   "metadata": {},
   "outputs": [
    {
     "data": {
      "text/plain": [
       "61.57088888888889"
      ]
     },
     "execution_count": 4,
     "metadata": {},
     "output_type": "execute_result"
    }
   ],
   "source": [
    "# or if we do things to it \n",
    "((var_a ** 2) / 7.2) + 21.432\n",
    "# but this WON'T be preserved, if you want to hold on to this answer you will need to define a new variable\n",
    "# to accept that answer."
   ]
  },
  {
   "cell_type": "code",
   "execution_count": 5,
   "id": "1f3b0159-edf5-4bff-bb5f-764e3ddde180",
   "metadata": {},
   "outputs": [
    {
     "data": {
      "text/plain": [
       "61.57088888888889"
      ]
     },
     "execution_count": 5,
     "metadata": {},
     "output_type": "execute_result"
    }
   ],
   "source": [
    "var_b = ((var_a ** 2) / 7.2) + 21.432\n",
    "var_b"
   ]
  },
  {
   "cell_type": "markdown",
   "id": "067cc7f5-7726-4526-930e-89f7e061a8a6",
   "metadata": {},
   "source": [
    "It's useful to have reusable code, so for that we use **functions**. Once they're defined, you can reuse them anywhere in the notebook, or even import them for elsewhere like a module."
   ]
  },
  {
   "cell_type": "code",
   "execution_count": 6,
   "id": "b97645a3-b51b-4193-98d9-ac572b4b51a4",
   "metadata": {},
   "outputs": [
    {
     "data": {
      "text/plain": [
       "61.57088888888889"
      ]
     },
     "execution_count": 6,
     "metadata": {},
     "output_type": "execute_result"
    }
   ],
   "source": [
    "# functions - you can recognise them as we use a 'def' statement to define them\n",
    "# if we use the above as an example,\n",
    "\n",
    "def astonishing_func(input_var):\n",
    "    output_var = ((input_var ** 2) / 7.2) + 21.432\n",
    "    return output_var\n",
    "\n",
    "# which means we can do this,\n",
    "astonishing_func(var_a)\n"
   ]
  },
  {
   "cell_type": "markdown",
   "id": "82a0cc02-2c71-4c24-9c8b-bf8c48b236fa",
   "metadata": {},
   "source": [
    "But everytime a variable is defined, function made, or operation performed we use memory. So if you have a large amount of data to process, you can run into memory errors. A notebook-hygiene technique, is to clean things up as you go, "
   ]
  },
  {
   "cell_type": "code",
   "execution_count": 7,
   "id": "e5b3a720-2a9c-4567-b6c0-aeab8ac62892",
   "metadata": {},
   "outputs": [],
   "source": [
    "# Cleaning things up\n",
    "# if you want to permanently delete a variable or function, use del\n",
    "del var_b, astonishing_func"
   ]
  },
  {
   "cell_type": "code",
   "execution_count": 8,
   "id": "f5235268-40cb-456e-904c-3ede02cf6f09",
   "metadata": {},
   "outputs": [
    {
     "ename": "NameError",
     "evalue": "name 'var_b' is not defined",
     "output_type": "error",
     "traceback": [
      "\u001b[1;31m---------------------------------------------------------------------------\u001b[0m",
      "\u001b[1;31mNameError\u001b[0m                                 Traceback (most recent call last)",
      "Cell \u001b[1;32mIn [8], line 2\u001b[0m\n\u001b[0;32m      1\u001b[0m \u001b[38;5;66;03m# so now var_b will be undefined, because we nuked it from the notebook..\u001b[39;00m\n\u001b[1;32m----> 2\u001b[0m \u001b[43mvar_b\u001b[49m\n",
      "\u001b[1;31mNameError\u001b[0m: name 'var_b' is not defined"
     ]
    }
   ],
   "source": [
    "# so now var_b will be undefined, because we nuked it from the notebook..\n",
    "var_b"
   ]
  },
  {
   "cell_type": "markdown",
   "id": "cb94f56e-571a-4220-b003-df3519203c49",
   "metadata": {},
   "source": [
    "And finally you should know that in IPython notebooks, anything you have called, imported or defined is **\"defined globally\"**. This means that the thing you just defined can be 'seen' by any other process in the notebook, it doesn't matter which cell that process is in. This is useful, because you don't need to re-run the whole notebook each time you do something, but it means you have to **be careful when you start editing/changing things**"
   ]
  },
  {
   "cell_type": "markdown",
   "id": "83044b91-2486-4398-ba3f-d32e25e7885e",
   "metadata": {},
   "source": [
    "### Part 1: Loading the ECCO data "
   ]
  },
  {
   "cell_type": "code",
   "execution_count": null,
   "id": "97438ddc-c5f3-43c7-92a5-4411dbc019fa",
   "metadata": {},
   "outputs": [],
   "source": [
    "# the things you'll need\n",
    "import os\n",
    "import sys\n",
    "import xarray as xr\n",
    "import matplotlib.pyplot as plt\n",
    "import numpy as np\n",
    "import warnings\n",
    "import ecco_v4_py as ecco"
   ]
  },
  {
   "cell_type": "code",
   "execution_count": null,
   "id": "5f2bec67-0d67-45c6-97a1-f403ec122f09",
   "metadata": {},
   "outputs": [],
   "source": [
    "ecco_dir = "
   ]
  },
  {
   "cell_type": "markdown",
   "id": "4af1b25c-5e3b-4955-a676-b112cde081b8",
   "metadata": {},
   "source": [
    "### Part 2: The sea-surface temperature evolution "
   ]
  },
  {
   "cell_type": "markdown",
   "id": "b57b6821-ab94-45ae-adad-a7f867898f0b",
   "metadata": {},
   "source": [
    "### Part 3: Disentangling cause and effect - the surface heat flux evolution"
   ]
  }
 ],
 "metadata": {
  "kernelspec": {
   "display_name": "Python 3 (ipykernel)",
   "language": "python",
   "name": "python3"
  },
  "language_info": {
   "codemirror_mode": {
    "name": "ipython",
    "version": 3
   },
   "file_extension": ".py",
   "mimetype": "text/x-python",
   "name": "python",
   "nbconvert_exporter": "python",
   "pygments_lexer": "ipython3",
   "version": "3.8.15"
  }
 },
 "nbformat": 4,
 "nbformat_minor": 5
}
