{
 "cells": [
  {
   "cell_type": "markdown",
   "id": "550c97f6-cd07-43b2-b942-437568e8625d",
   "metadata": {},
   "source": [
    "<h1 style=\"text-align: center;\">Investigating the 2013-2014 marine heatwave in the North-East Pacific</h1>"
   ]
  },
  {
   "cell_type": "markdown",
   "id": "6bc6e28c-6b33-44d1-bb41-21696f8ffe88",
   "metadata": {},
   "source": [
    "Towards the end of 2013 a large and apparently growing mass of warm water formed in the North-Eastern Pacific ocean. By 'warmer', I mean the sea water temperature was a few degrees away from the temperatures expected of the region at that time of year. \n",
    "\n",
    "This was also considerably warmer the year-on-year warming caused by a globally warming climate. \n",
    "\n",
    "The mass was named \"The Blob\" by Nick Bond, a climate scientist in the University of Washington - who decided to give a nod to the 1958 horror film of that name. It's about an unstoppable mass that keeps growing and destroys everything in it's path. Subtle."
   ]
  },
  {
   "cell_type": "markdown",
   "id": "a2fdd8ad-ae39-49b1-acfd-9ff859063b74",
   "metadata": {},
   "source": [
    "<table><tr>\n",
    "<td> <img src=\"figures_used/0201newsfeature_pacificblob_globe5.jpg\" alt=\"Drawing\" style=\"width: 400px; height: 383px\"/> </td>\n",
    "<td> <img src=\"figures_used/The_Blob_(1958)_theatrical_poster.jpg\" alt=\"Drawing\" style=\"width: 250px; height:\"/> </td>\n",
    "</tr></table>"
   ]
  },
  {
   "cell_type": "markdown",
   "id": "49888fec-6e17-4bda-b6dd-6ff41004a64b",
   "metadata": {},
   "source": [
    "At it's peak, the anomaly stretched from the Gulf of Alaska to Baja California. The immediate, and medium term, impacts were severe -  including mass die-offs of seabirds and marine mammals, toxic phytoplankton blooms, and the near-collapse of several important fisheries."
   ]
  },
  {
   "cell_type": "markdown",
   "id": "18cfb51f-95b1-47bd-90d3-5e570caa0152",
   "metadata": {},
   "source": [
    "### Getting used to Python - a very brief introduction\n",
    "\n",
    "Different fields in science often adopt different tools, even when they all broadly do the same thing. In oceanography it is now common to work in Python, so many of the computational tools available to us are written in Python. But as most of you will not have used it yet, I thought it would be useful just to give a short overview of the main features you need to know about here. I'll also point out a few things you should when using IPython notebooks like this. \n",
    "\n",
    "First off, this notebook is composed of cells. Each box you can see is a cell, and you can run the code in them independently of one another, or run them all at once. \n",
    "\n",
    "This cell is a markdown cell. What does that mean? Markdown is a kind of coding language to \"just write things\", such as this text. The cell below is a code cell, which can actually execute commands.\n",
    "\n",
    "A final introductory thing: If you're stuck, or the notebook is acting in a way that seems odd - just restart it. You will need to re-run all the cells you previously ran.\n"
   ]
  },
  {
   "cell_type": "code",
   "execution_count": 2,
   "id": "17c6f195-651f-4789-ac53-163915cad07c",
   "metadata": {},
   "outputs": [
    {
     "data": {
      "text/plain": [
       "<module 'numpy' from 'C:\\\\Users\\\\uv20102\\\\Anaconda3\\\\envs\\\\CMIP6_field_analysis_env\\\\lib\\\\site-packages\\\\numpy\\\\__init__.py'>"
      ]
     },
     "execution_count": 2,
     "metadata": {},
     "output_type": "execute_result"
    }
   ],
   "source": [
    "# loading modules\n",
    "\n",
    "# In Python, when we need a particular module we load using an 'import' statement, usually at the beginning of the notebook/script.\n",
    "# for example, the Python numerical module numpy:\n",
    "import numpy as np\n",
    "\n",
    "# I've also given this import an alias with the 'as' statement. This means we can use a short name to call a module with a long \n",
    "# name.\n",
    "np"
   ]
  },
  {
   "cell_type": "markdown",
   "id": "635ac814-cf78-4df8-a0a1-e508fe49f8a0",
   "metadata": {},
   "source": [
    "But if we want to do anything, we also need to define **variables**,"
   ]
  },
  {
   "cell_type": "code",
   "execution_count": 3,
   "id": "6c7a9596-efba-4030-a5ba-be66b5b9ecf1",
   "metadata": {},
   "outputs": [
    {
     "data": {
      "text/plain": [
       "17"
      ]
     },
     "execution_count": 3,
     "metadata": {},
     "output_type": "execute_result"
    }
   ],
   "source": [
    "# variables - an object that can take on different values, types ect. That we can also do things to\n",
    "\n",
    "# for example:\n",
    "var_a = 17\n",
    "# so var_a is just the number 17\n",
    "var_a"
   ]
  },
  {
   "cell_type": "code",
   "execution_count": 4,
   "id": "99e8b33d-520d-441c-a195-2f93d9aa8960",
   "metadata": {},
   "outputs": [
    {
     "data": {
      "text/plain": [
       "61.57088888888889"
      ]
     },
     "execution_count": 4,
     "metadata": {},
     "output_type": "execute_result"
    }
   ],
   "source": [
    "# or if we do things to it \n",
    "((var_a ** 2) / 7.2) + 21.432\n",
    "# but this WON'T be preserved, if you want to hold on to this answer you will need to define a new variable\n",
    "# to accept that answer."
   ]
  },
  {
   "cell_type": "code",
   "execution_count": 5,
   "id": "1f3b0159-edf5-4bff-bb5f-764e3ddde180",
   "metadata": {},
   "outputs": [
    {
     "data": {
      "text/plain": [
       "61.57088888888889"
      ]
     },
     "execution_count": 5,
     "metadata": {},
     "output_type": "execute_result"
    }
   ],
   "source": [
    "var_b = ((var_a ** 2) / 7.2) + 21.432\n",
    "var_b"
   ]
  },
  {
   "cell_type": "markdown",
   "id": "067cc7f5-7726-4526-930e-89f7e061a8a6",
   "metadata": {},
   "source": [
    "It's useful to have reusable code, so for that we use **functions**. Once they're defined, you can reuse them anywhere in the notebook, or even import them for elsewhere like a module."
   ]
  },
  {
   "cell_type": "code",
   "execution_count": 6,
   "id": "b97645a3-b51b-4193-98d9-ac572b4b51a4",
   "metadata": {},
   "outputs": [
    {
     "data": {
      "text/plain": [
       "61.57088888888889"
      ]
     },
     "execution_count": 6,
     "metadata": {},
     "output_type": "execute_result"
    }
   ],
   "source": [
    "# functions - you can recognise them as we use a 'def' statement to define them\n",
    "# if we use the above as an example,\n",
    "\n",
    "def astonishing_func(input_var):\n",
    "    output_var = ((input_var ** 2) / 7.2) + 21.432\n",
    "    return output_var\n",
    "\n",
    "# which means we can do this,\n",
    "astonishing_func(var_a)\n"
   ]
  },
  {
   "cell_type": "markdown",
   "id": "82a0cc02-2c71-4c24-9c8b-bf8c48b236fa",
   "metadata": {},
   "source": [
    "But everytime a variable is defined, function made, or operation performed we use memory. So if you have a large amount of data to process, you can run into memory errors. A notebook-hygiene technique, is to clean things up as you go, "
   ]
  },
  {
   "cell_type": "code",
   "execution_count": 7,
   "id": "e5b3a720-2a9c-4567-b6c0-aeab8ac62892",
   "metadata": {},
   "outputs": [],
   "source": [
    "# Cleaning things up\n",
    "# if you want to permanently delete a variable or function, use del\n",
    "del var_b, astonishing_func"
   ]
  },
  {
   "cell_type": "code",
   "execution_count": 8,
   "id": "f5235268-40cb-456e-904c-3ede02cf6f09",
   "metadata": {},
   "outputs": [
    {
     "ename": "NameError",
     "evalue": "name 'var_b' is not defined",
     "output_type": "error",
     "traceback": [
      "\u001b[1;31m---------------------------------------------------------------------------\u001b[0m",
      "\u001b[1;31mNameError\u001b[0m                                 Traceback (most recent call last)",
      "Cell \u001b[1;32mIn [8], line 2\u001b[0m\n\u001b[0;32m      1\u001b[0m \u001b[38;5;66;03m# so now var_b will be undefined, because we nuked it from the notebook..\u001b[39;00m\n\u001b[1;32m----> 2\u001b[0m \u001b[43mvar_b\u001b[49m\n",
      "\u001b[1;31mNameError\u001b[0m: name 'var_b' is not defined"
     ]
    }
   ],
   "source": [
    "# so now var_b will be undefined, because we nuked it from the notebook..\n",
    "var_b"
   ]
  },
  {
   "cell_type": "code",
   "execution_count": null,
   "id": "ada37c81-bc35-41d9-b816-c66a3d2e2b42",
   "metadata": {},
   "outputs": [],
   "source": [
    "# A note on types\n",
    "# You will notice that the code text is a lot of different colours - this is one the ways the notebook differentiates \n",
    "# between 'types', different kinds of code object, which are the basic building blocks of python\n",
    "# the main things I want you to recognise are:\n",
    "\n",
    "# Strings - text basically, if you see '' or \"\" around domething, its a string\n",
    "a_nice_string = \"whose name is bob\"\n",
    "a_nice_string"
   ]
  },
  {
   "cell_type": "code",
   "execution_count": null,
   "id": "c943755e-bec9-4aad-b136-7c971e00eeea",
   "metadata": {},
   "outputs": [],
   "source": [
    "# And various kinds of numbers.\n",
    "# If a number has a decmial point in it, its a 'float', like,\n",
    "floaty_num = 2.34\n",
    "# but if it doesn't it's an integer, or 'int' type\n",
    "int_num = 2\n",
    "\n",
    "# if you're unsure what something is, you can use the type() function, like this\n",
    "type(int_num)"
   ]
  },
  {
   "cell_type": "markdown",
   "id": "cb94f56e-571a-4220-b003-df3519203c49",
   "metadata": {},
   "source": [
    "And finally you should know that in IPython notebooks, anything you have called, imported or defined is **\"defined globally\"**. This means that the thing you just defined can be 'seen' by any other process in the notebook, it doesn't matter which cell that process is in. This is useful, because you don't need to re-run the whole notebook each time you do something, but it means you have to **be careful when you start editing/changing things**"
   ]
  },
  {
   "cell_type": "markdown",
   "id": "83044b91-2486-4398-ba3f-d32e25e7885e",
   "metadata": {},
   "source": [
    "### Part 1: Loading the ECCO data "
   ]
  },
  {
   "cell_type": "code",
   "execution_count": null,
   "id": "97438ddc-c5f3-43c7-92a5-4411dbc019fa",
   "metadata": {},
   "outputs": [],
   "source": [
    "# the things you'll need\n",
    "import os\n",
    "import sys\n",
    "import xarray as xr\n",
    "import matplotlib.pyplot as plt\n",
    "import numpy as np\n",
    "import warnings\n",
    "import ecco_v4_py as ecco\n",
    "\n",
    "from dask.distributed import Client\n",
    "\n",
    "client = Client()\n",
    "client.run(gc.collect)\n",
    "client"
   ]
  },
  {
   "cell_type": "code",
   "execution_count": null,
   "id": "5f2bec67-0d67-45c6-97a1-f403ec122f09",
   "metadata": {},
   "outputs": [],
   "source": [
    "# just the directories where the data should live\n",
    "ecco_dir = './ECCO_data/'\n",
    "grid_dir = './grid_dir/GRID_GEOMETRY_ECCO_V4r4_native_llc0090.nc'"
   ]
  },
  {
   "cell_type": "markdown",
   "id": "43bbac92-3e71-4bb3-a378-4993c4f44b61",
   "metadata": {},
   "source": [
    "#### Also introducing xarray, a handy python tool \n",
    "\n",
    "Xarray is very useful for storing and analysing spatial data, like the ECCO dataset. It has all sort's of features, which you are free to explore! But mostly I will say in the comments what is going on an why.\n",
    "\n",
    "There are two important features I want to mention here first: 1) xarray use indices to organise its data. These are postions along a dimension, say time. For example, if I had an 3D array of data (i.e. it has X, Y and Z coordinates), then I could pick a point out of that array by selecting a point in each of the dimensions (i.e. X=3, Y=6, Z=4).\n",
    "\n",
    "Xarray can do that, but for many dimensions - I will point out when I do this. Do alter and edit the code if you feel like it, if something goes terribly wrong, you can just download a new version of the notebook. "
   ]
  },
  {
   "cell_type": "code",
   "execution_count": null,
   "id": "3654c004-c473-455e-9ca3-a90791d5f940",
   "metadata": {},
   "outputs": [],
   "source": [
    "%%time \n",
    "# atmosphere and sea surface flux data\n",
    "atmos_ds = \n",
    "# ocean transport data\n",
    "otrans_ds = \n",
    "# density and stratification\n",
    "strat_ds = "
   ]
  },
  {
   "cell_type": "code",
   "execution_count": null,
   "id": "b2822339-be82-4fd5-ae64-2847c881db3b",
   "metadata": {},
   "outputs": [],
   "source": [
    "# the ecco grid - this is used for various calculations, anything involving area, volume, distance ect\n",
    "grid = xr.open_dataset(grid_dir)"
   ]
  },
  {
   "cell_type": "markdown",
   "id": "4af1b25c-5e3b-4955-a676-b112cde081b8",
   "metadata": {},
   "source": [
    "### Part 2: The sea-surface temperature "
   ]
  },
  {
   "cell_type": "markdown",
   "id": "e8d08805-81de-4613-a28c-008cb66e91fe",
   "metadata": {},
   "source": [
    "A climatology is basically a long-term average - which is useful to compare 'anomalies' against. We aren't going to think much about how an properly define an anomaly today (it can get a bit involved..), for our purposes its just **a difference from the climatology**. Or, a difference from some kind of mean state.\n",
    "\n",
    "Below, you will see an example of how to do a weighted average. Youn need to do this because we are using monthly mean data, and different months are different lengths (30 vs 31 vs 28 days)."
   ]
  },
  {
   "cell_type": "code",
   "execution_count": null,
   "id": "6b9d335d-7329-4d0f-b677-2daa06d20433",
   "metadata": {},
   "outputs": [],
   "source": [
    "### !!! SOMETHING YOU CAN EDIT !!!"
   ]
  },
  {
   "cell_type": "code",
   "execution_count": null,
   "id": "555cc868-cb42-4da3-b511-244707ed09ef",
   "metadata": {},
   "outputs": [],
   "source": [
    "# This is a method of xarray's, you can group data along some dimension, like time. So here I'm just gouping the data\n",
    "# by year, then \n",
    "years = atmos_ds.groupby('time.year').groups\n",
    "climatology_range = [i for i in list(years.keys()) if i <= 2011]\n",
    "\n",
    "\n",
    "inds = []\n",
    "for y in climatology_range:\n",
    "    inds.append(years[y])\n",
    "\n",
    "rng = [i for sl in inds for i in sl]\n",
    "climatology_start_end = slice(np.min(rng), np.max(rng)+1)\n"
   ]
  },
  {
   "cell_type": "code",
   "execution_count": null,
   "id": "61ed952f-40cd-48b3-bd0f-81a5881710e1",
   "metadata": {},
   "outputs": [],
   "source": [
    "# these are just the number of days in a given month. I though we might as well do the ave\n",
    "clim_mon_len = ecco_monmean.time.dt.days_in_month.isel(time=climatology_start_end)"
   ]
  },
  {
   "cell_type": "code",
   "execution_count": null,
   "id": "afa726f1-eec6-4ae7-9bb8-ff266d13240a",
   "metadata": {},
   "outputs": [],
   "source": [
    "# add some 'buoys' to that map that are going to be the obs' time series\n",
    "# As they can look at most of these processes in 1D, this is mainly just to make things easier"
   ]
  },
  {
   "cell_type": "markdown",
   "id": "b57b6821-ab94-45ae-adad-a7f867898f0b",
   "metadata": {},
   "source": [
    "### Part 3: The surface heat fluxes"
   ]
  },
  {
   "cell_type": "code",
   "execution_count": null,
   "id": "0ec2eaf4-382d-4cdc-818e-35cea086e9c0",
   "metadata": {},
   "outputs": [],
   "source": [
    "# Map of sea surface pressure and wind, again this is just a difference from a 'climatology' I'll provide"
   ]
  },
  {
   "cell_type": "code",
   "execution_count": null,
   "id": "d2acc624-57d7-43af-974e-38f1c3c4c45c",
   "metadata": {},
   "outputs": [],
   "source": [
    "# Pick a buoy, plot the surface heat fluxes against the temperature metric. \n",
    "# This will probably be a 3-5 rolling mean\n",
    "# What can you notice about the timing of these factors?"
   ]
  },
  {
   "cell_type": "markdown",
   "id": "68019891-0f7a-4917-bb0a-6333fa67c8bd",
   "metadata": {},
   "source": [
    "### Part 4: What was the ocean doing?"
   ]
  },
  {
   "cell_type": "code",
   "execution_count": null,
   "id": "5f91cb77-dba4-4071-a94d-c101b8df499b",
   "metadata": {},
   "outputs": [],
   "source": [
    "# Do the same thing for the ocean transport terms.\n",
    "# How do these compare to the surface fluxes? Which are the most important at this location?"
   ]
  },
  {
   "cell_type": "markdown",
   "id": "dd45b025-b7b2-48f7-8b8a-9d60c6a37155",
   "metadata": {},
   "source": [
    "### Part 5: \n",
    "\n",
    "This bit is up to you!\n",
    "\n",
    "Look at the previous bits of code, and have a think about how you could edit them to do your own analysis. **This will be very important for your report**. You don't need to re-write everything, but try picking different variables and seeing if you can build a case for this extreme event being present in them."
   ]
  },
  {
   "cell_type": "code",
   "execution_count": null,
   "id": "8fd0e554-e7e2-4c56-957a-cec6215ff5f0",
   "metadata": {},
   "outputs": [],
   "source": [
    "# May not get here...\n",
    "\n",
    "# basically you can make an index that tells you if upwelling conditions are favourable. If I include it,\n",
    "# It will just be a map with the location they've looked at plotted on it. The point will be to think \n",
    "# about the implications of reduced upwelling during the anomaly"
   ]
  }
 ],
 "metadata": {
  "kernelspec": {
   "display_name": "Python 3 (ipykernel)",
   "language": "python",
   "name": "python3"
  },
  "language_info": {
   "codemirror_mode": {
    "name": "ipython",
    "version": 3
   },
   "file_extension": ".py",
   "mimetype": "text/x-python",
   "name": "python",
   "nbconvert_exporter": "python",
   "pygments_lexer": "ipython3",
   "version": "3.8.15"
  }
 },
 "nbformat": 4,
 "nbformat_minor": 5
}
