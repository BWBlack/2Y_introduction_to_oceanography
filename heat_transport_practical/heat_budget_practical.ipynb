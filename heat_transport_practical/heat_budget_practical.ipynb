{
 "cells": [
  {
   "cell_type": "markdown",
   "id": "550c97f6-cd07-43b2-b942-437568e8625d",
   "metadata": {},
   "source": [
    "<h1 style=\"text-align: center;\">Investigating the 2013-2014 marine heatwave in the North-East Pacific</h1>"
   ]
  },
  {
   "cell_type": "markdown",
   "id": "6bc6e28c-6b33-44d1-bb41-21696f8ffe88",
   "metadata": {},
   "source": [
    "Towards the end of 2013 a large and apparently growing mass of warm water formed in the North-Eastern Pacific ocean. By 'warmer', I mean the sea water temperature was a few degrees away from the temperatures expected of the region at that time of year. \n",
    "\n",
    "This was also considerably warmer the year-on-year warming caused by a globally warming climate. \n",
    "\n",
    "The mass was named \"The Blob\" by Nick Bond, a climate scientist in the University of Washington - who decided to give a nod to the 1958 horror film of that name. It's about an unstoppable mass that keeps growing and destroys everything in it's path. Subtle."
   ]
  },
  {
   "cell_type": "markdown",
   "id": "a2fdd8ad-ae39-49b1-acfd-9ff859063b74",
   "metadata": {},
   "source": [
    "<table><tr>\n",
    "<td> <img src=\"figures_used/0201newsfeature_pacificblob_globe5.jpg\" alt=\"Drawing\" style=\"width: 400px; height: 383px\"/> </td>\n",
    "<td> <img src=\"figures_used/The_Blob_(1958)_theatrical_poster.jpg\" alt=\"Drawing\" style=\"width: 250px; height:\"/> </td>\n",
    "</tr></table>"
   ]
  },
  {
   "cell_type": "markdown",
   "id": "49888fec-6e17-4bda-b6dd-6ff41004a64b",
   "metadata": {},
   "source": [
    "At it's peak, the anomaly stretched from the Gulf of Alaska to Baja California. The immediate, and medium term, impacts were severe -  including mass die-offs of seabirds and marine mammals, toxic phytoplankton blooms, and the near-collapse of several important fisheries."
   ]
  },
  {
   "cell_type": "markdown",
   "id": "18cfb51f-95b1-47bd-90d3-5e570caa0152",
   "metadata": {},
   "source": [
    "### Getting used to Python - a very brief introduction\n",
    "\n",
    "Different fields in science often adopt different tools, even when they all broadly do the same thing. In oceanography it is now common to work in Python, so many of the computational tools available to us are written in Python. But as most of you will not have used it yet, I thought it would be useful just to give a short overview of the main features you need to know about here. I'll also point out a few things you should when using IPython notebooks like this. \n",
    "\n",
    "First off, this notebook is composed of cells. Each box you can see is a cell, and you can run the code in them independently of one another, or run them all at once. \n",
    "\n",
    "This cell is a markdown cell. What does that mean? Markdown is a kind of coding language to \"just write things\", such as this text. The cell below is a code cell, which can actually execute commands.\n",
    "\n",
    "A final introductory thing: If you're stuck, or the notebook is acting in a way that seems odd - just restart it. You will need to re-run all the cells you previously ran.\n"
   ]
  },
  {
   "cell_type": "code",
   "execution_count": null,
   "id": "17c6f195-651f-4789-ac53-163915cad07c",
   "metadata": {},
   "outputs": [],
   "source": [
    "# loading modules\n",
    "\n",
    "# In Python, when we need a particular module we load using an 'import' statement, usually at the beginning of the notebook/script.\n",
    "# for example, the Python numerical module numpy:\n",
    "import numpy as np\n",
    "\n",
    "# I've also given this import an alias with the 'as' statement. This means we can use a short name to call a module with a long \n",
    "# name.\n",
    "np"
   ]
  },
  {
   "cell_type": "markdown",
   "id": "635ac814-cf78-4df8-a0a1-e508fe49f8a0",
   "metadata": {},
   "source": [
    "But if we want to do anything, we also need to define **variables**,"
   ]
  },
  {
   "cell_type": "code",
   "execution_count": null,
   "id": "6c7a9596-efba-4030-a5ba-be66b5b9ecf1",
   "metadata": {},
   "outputs": [],
   "source": [
    "# variables - an object that can take on different values, types ect. That we can also do things to\n",
    "\n",
    "# for example:\n",
    "var_a = 17\n",
    "# so var_a is just the number 17\n",
    "var_a"
   ]
  },
  {
   "cell_type": "code",
   "execution_count": null,
   "id": "99e8b33d-520d-441c-a195-2f93d9aa8960",
   "metadata": {},
   "outputs": [],
   "source": [
    "# or if we do things to it \n",
    "((var_a ** 2) / 7.2) + 21.432\n",
    "# but this WON'T be preserved, if you want to hold on to this answer you will need to define a new variable\n",
    "# to accept that answer."
   ]
  },
  {
   "cell_type": "code",
   "execution_count": null,
   "id": "1f3b0159-edf5-4bff-bb5f-764e3ddde180",
   "metadata": {},
   "outputs": [],
   "source": [
    "var_b = ((var_a ** 2) / 7.2) + 21.432\n",
    "var_b"
   ]
  },
  {
   "cell_type": "markdown",
   "id": "067cc7f5-7726-4526-930e-89f7e061a8a6",
   "metadata": {},
   "source": [
    "It's useful to have reusable code, so for that we use **functions**. Once they're defined, you can reuse them anywhere in the notebook, or even import them for elsewhere like a module."
   ]
  },
  {
   "cell_type": "code",
   "execution_count": null,
   "id": "b97645a3-b51b-4193-98d9-ac572b4b51a4",
   "metadata": {},
   "outputs": [],
   "source": [
    "# functions - you can recognise them as we use a 'def' statement to define them\n",
    "# if we use the above as an example,\n",
    "\n",
    "def astonishing_func(input_var):\n",
    "    output_var = ((input_var ** 2) / 7.2) + 21.432\n",
    "    return output_var\n",
    "\n",
    "# which means we can do this,\n",
    "astonishing_func(var_a)\n"
   ]
  },
  {
   "cell_type": "markdown",
   "id": "82a0cc02-2c71-4c24-9c8b-bf8c48b236fa",
   "metadata": {},
   "source": [
    "But everytime a variable is defined, function made, or operation performed we use memory. So if you have a large amount of data to process, you can run into memory errors. A notebook-hygiene technique, is to clean things up as you go, "
   ]
  },
  {
   "cell_type": "code",
   "execution_count": null,
   "id": "e5b3a720-2a9c-4567-b6c0-aeab8ac62892",
   "metadata": {},
   "outputs": [],
   "source": [
    "# Cleaning things up\n",
    "# if you want to permanently delete a variable or function, use del\n",
    "del var_b, astonishing_func"
   ]
  },
  {
   "cell_type": "code",
   "execution_count": null,
   "id": "f5235268-40cb-456e-904c-3ede02cf6f09",
   "metadata": {},
   "outputs": [],
   "source": [
    "# so now var_b will be undefined, because we nuked it from the notebook..\n",
    "var_b"
   ]
  },
  {
   "cell_type": "code",
   "execution_count": null,
   "id": "ada37c81-bc35-41d9-b816-c66a3d2e2b42",
   "metadata": {},
   "outputs": [],
   "source": [
    "# A note on types\n",
    "# You will notice that the code text is a lot of different colours - this is one the ways the notebook differentiates \n",
    "# between 'types', different kinds of code object, which are the basic building blocks of python\n",
    "# the main things I want you to recognise are:\n",
    "\n",
    "# Strings - text basically, if you see '' or \"\" around domething, its a string\n",
    "a_nice_string = \"whose name is bob\"\n",
    "a_nice_string"
   ]
  },
  {
   "cell_type": "code",
   "execution_count": null,
   "id": "c943755e-bec9-4aad-b136-7c971e00eeea",
   "metadata": {},
   "outputs": [],
   "source": [
    "# And various kinds of numbers.\n",
    "# If a number has a decmial point in it, its a 'float', like,\n",
    "floaty_num = 2.34\n",
    "# but if it doesn't it's an integer, or 'int' type\n",
    "int_num = 2\n",
    "\n",
    "# if you're unsure what something is, you can use the type() function, like this\n",
    "type(int_num)"
   ]
  },
  {
   "cell_type": "markdown",
   "id": "cb94f56e-571a-4220-b003-df3519203c49",
   "metadata": {},
   "source": [
    "And finally you should know that in IPython notebooks, anything you have called, imported or defined is **\"defined globally\"**. This means that the thing you just defined can be 'seen' by any other process in the notebook, it doesn't matter which cell that process is in. This is useful, because you don't need to re-run the whole notebook each time you do something, but it means you have to **be careful when you start editing/changing things**"
   ]
  },
  {
   "cell_type": "markdown",
   "id": "83044b91-2486-4398-ba3f-d32e25e7885e",
   "metadata": {},
   "source": [
    "### Part 1: Loading the ECCO data \n",
    "\n",
    "I have given you more data than I will use in these examples - but part of this practical's purpose is for you to see how these variables behave in the 'real' world. **So try using the methods shown here on other variables**. Their names are a bit odd, but there is a list of most of them in `list_of_ECCO_variable_names.txt`, this has also got their units, long names and a bit of additional info."
   ]
  },
  {
   "cell_type": "code",
   "execution_count": null,
   "id": "97438ddc-c5f3-43c7-92a5-4411dbc019fa",
   "metadata": {},
   "outputs": [],
   "source": [
    "# the things you'll need\n",
    "import os\n",
    "import sys\n",
    "import xarray as xr\n",
    "import matplotlib.pyplot as plt\n",
    "import numpy as np\n",
    "import warnings\n",
    "import ecco_v4_py as ecco\n",
    "import gc\n",
    "from dask.distributed import Client\n",
    "\n",
    "# If you click on this url, you will end up on the dask dashboard - what is it? It shows you which python processes \n",
    "# are running at a given time, how much memory they're using and their progress.\n",
    "client = Client()\n",
    "client.run(gc.collect)\n",
    "client"
   ]
  },
  {
   "cell_type": "code",
   "execution_count": null,
   "id": "5f2bec67-0d67-45c6-97a1-f403ec122f09",
   "metadata": {},
   "outputs": [],
   "source": [
    "# just the directories where the data should live\n",
    "ecco_data_dir = 'D:/ECCOv4_heat_transport/ECCO_V4r4/ECCO_data/atmos_and_flux_data_1992_2017.nc' #'./ECCO_data/'\n",
    "grid_dir = './grid_dir/GRID_GEOMETRY_ECCO_V4r4_native_llc0090.nc'"
   ]
  },
  {
   "cell_type": "markdown",
   "id": "43bbac92-3e71-4bb3-a378-4993c4f44b61",
   "metadata": {},
   "source": [
    "#### Also introducing xarray, a handy python tool \n",
    "\n",
    "Xarray is very useful for storing and analysing spatial data, like the ECCO dataset. It has all sort's of features, which you are free to explore! But mostly I will say in the comments what is going on an why.\n",
    "\n",
    "There are two important features I want to mention here first: 1) xarray use indices to organise its data. These are postions along a dimension, say time. For example, if I had an 3D array of data (i.e. it has X, Y and Z coordinates), then I could pick a point out of that array by selecting a point in each of the dimensions (i.e. X=3, Y=6, Z=4).\n",
    "\n",
    "Xarray can do that, but for many dimensions - I will point out when I do this. Do alter and edit the code if you feel like it, if something goes terribly wrong, you can just download a new version of the notebook. "
   ]
  },
  {
   "cell_type": "code",
   "execution_count": null,
   "id": "3654c004-c473-455e-9ca3-a90791d5f940",
   "metadata": {},
   "outputs": [],
   "source": [
    "%%time \n",
    "# atmosphere and sea surface flux data\n",
    "atmos_ds = xr.open_dataset(ecco_data_dir)\n",
    "# ocean transport data\n",
    "# otrans_ds = \n",
    "# density and stratification\n",
    "# strat_ds = "
   ]
  },
  {
   "cell_type": "code",
   "execution_count": null,
   "id": "b2822339-be82-4fd5-ae64-2847c881db3b",
   "metadata": {},
   "outputs": [],
   "source": [
    "# the ecco grid - this is used for various calculations, anything involving area, volume, distance ect\n",
    "grid = xr.open_dataset(grid_dir)"
   ]
  },
  {
   "cell_type": "markdown",
   "id": "3ec14841-0cbb-4ba6-9796-f0200cec38fb",
   "metadata": {},
   "source": [
    "#### Setting up some constant values"
   ]
  },
  {
   "cell_type": "code",
   "execution_count": null,
   "id": "d07f4af4-413d-4151-beb0-03c360aeb100",
   "metadata": {},
   "outputs": [],
   "source": [
    "# this is the volume of each grid cell. the dataset is the same shape as the variables that 'need', heat transport terms for example,\n",
    "# so you can multiply and divide other datasets and dataarrays by it\n",
    "# vol = (grid.rA*grid.drF*grid.hFacC).transpose('tile','k','j','i')"
   ]
  },
  {
   "cell_type": "code",
   "execution_count": null,
   "id": "b29690dc-7ef9-4e2c-885b-19c79a55dcdf",
   "metadata": {},
   "outputs": [],
   "source": [
    "# Seawater density (kg/m^3)\n",
    "# rhoconst = 1029\n",
    "# ## needed to convert surface mass fluxes to volume fluxes\n",
    "\n",
    "# # Remember this? Heat capacity (J/kg/K)\n",
    "# c_p = 3994\n",
    "\n",
    "# # Constants for surface heat penetration (from Table 2 of Paulson and Simpson, 1977)\n",
    "# R = 0.62\n",
    "# zeta1 = 0.6\n",
    "# zeta2 = 20.0"
   ]
  },
  {
   "cell_type": "code",
   "execution_count": null,
   "id": "4cc42bb6-66ec-4e69-bc13-37537b08608e",
   "metadata": {},
   "outputs": [],
   "source": [
    "# some functions I'll use occasionally\n",
    "def plot_a_map(da, grid, vmin=None, vmax=None, cmap=None):\n",
    "    \n",
    "    p = ecco.plot_proj_to_latlon_grid(grid.XC, grid.YC, da,\n",
    "                                      show_colorbar=True,\n",
    "                                      user_lon_0=-130, user_lat_0=None,\n",
    "                                      dx=0.5, dy=0.5,\n",
    "                                      cmap=cmap, \n",
    "                                      vmin=vmin, vmax=vmax, cmin=vmin, cmax=vmax,\n",
    "                                      #subplot_grid=[3,1,idx+1]\n",
    "    )"
   ]
  },
  {
   "cell_type": "markdown",
   "id": "4af1b25c-5e3b-4955-a676-b112cde081b8",
   "metadata": {},
   "source": [
    "### Part 2: The surface temperature (atmosphere and ocean) "
   ]
  },
  {
   "cell_type": "markdown",
   "id": "e8d08805-81de-4613-a28c-008cb66e91fe",
   "metadata": {},
   "source": [
    "A climatology is basically a long-term average - which is useful to compare 'anomalies' against. We aren't going to think much about how an properly define an anomaly today (it can get a bit involved..), for our purposes its just **a difference from the climatology**. Or, a difference from some kind of mean state.\n",
    "\n",
    "Below, you will see an example of how to do a weighted average. Youn need to do this because we are using monthly mean data, and different months are different lengths (30 vs 31 vs 28 days)."
   ]
  },
  {
   "cell_type": "code",
   "execution_count": null,
   "id": "6b9d335d-7329-4d0f-b677-2daa06d20433",
   "metadata": {},
   "outputs": [],
   "source": [
    "### !!! SOMETHING YOU CAN EDIT !!!\n",
    "variable = 'EXFatemp' # this is surface air temperature, but check the list for others\n",
    "X_point = 50\n",
    "Y_point = 80\n",
    "tiles=[7,10]\n",
    "\n",
    "# this is what a dataset looks like - theres a lot of information in these\n",
    "atmos_ds"
   ]
  },
  {
   "cell_type": "code",
   "execution_count": null,
   "id": "e99c3ff3-9622-42b0-bc7e-1266fa935717",
   "metadata": {},
   "outputs": [],
   "source": [
    "# I'll take this opportunity to explain the dataset dimensions\n",
    "# A dataarray is a single variable, like sea surface pressure - the dataset is composed of one or many arrays\n",
    "# these arrays have dimensions, like x, y, z and time, which allow us to organise them.\n",
    "# If you want to know a dataset's or a dataarray's dimensions just do this\n",
    "atmos_ds.dims"
   ]
  },
  {
   "cell_type": "code",
   "execution_count": null,
   "id": "555cc868-cb42-4da3-b511-244707ed09ef",
   "metadata": {},
   "outputs": [],
   "source": [
    "# This is a method of xarray's, you can group data along some dimension, like time. So here I'm just gouping the data\n",
    "# by year, then find the start and end time points to cut out the period we will use as the climatology\n",
    "years = atmos_ds.groupby('time.year').groups\n",
    "climatology_range = [i for i in list(years.keys()) if i <= 2011]\n",
    "\n",
    "\n",
    "inds = []\n",
    "for y in climatology_range:\n",
    "    inds.append(years[y])\n",
    "# this is just a pythony thing... if you're interested feel free to ask, otherwise don't worry \n",
    "# about it\n",
    "rng = [i for sl in inds for i in sl]\n",
    "climatology_start_end = slice(np.min(rng), np.max(rng)+1)\n"
   ]
  },
  {
   "cell_type": "code",
   "execution_count": null,
   "id": "61ed952f-40cd-48b3-bd0f-81a5881710e1",
   "metadata": {},
   "outputs": [],
   "source": [
    "# these are just the number of days in a given month. I though we might as well do the ave\n",
    "clim_mon_len = atmos_ds.time.dt.days_in_month.isel(time=climatology_start_end)"
   ]
  },
  {
   "cell_type": "code",
   "execution_count": null,
   "id": "101278a7-2c30-4161-b190-9016074d78e3",
   "metadata": {},
   "outputs": [],
   "source": [
    "# This is how we cut out a section of data we want to do somthing with, so in this case the start and end index\n",
    "# of the climatology period, 1992 to 2011\n",
    "ecco_1992_2011 = atmos_ds.isel(time=climatology_start_end)"
   ]
  },
  {
   "cell_type": "code",
   "execution_count": null,
   "id": "23657c98-9eea-4232-a0b3-9885778327a8",
   "metadata": {},
   "outputs": [],
   "source": [
    "# we calculate the weights for averaging\n",
    "weights = (\n",
    "    clim_mon_len.groupby(\"time.month\") / clim_mon_len.groupby(\"time.month\").sum()\n",
    ")\n",
    "\n",
    "# And this is the climatology - CRUCIALLY not including the period we might want to compare it \n",
    "monthly_climatology = (ecco_1992_2011*weights\n",
    "                       ).groupby('time.month').sum(dim='time'\n",
    ")\n",
    "monthly_climatology.month.values"
   ]
  },
  {
   "cell_type": "code",
   "execution_count": null,
   "id": "dce667be-4c7a-4c68-9de7-eaeee886b7aa",
   "metadata": {},
   "outputs": [],
   "source": [
    "# As an example, here is sea level pressure December 2012\n",
    "dec_climatology_press = monthly_climatology[variable].sel(month=12\n",
    "                                                            ).assign_attrs(\n",
    "    {'units':atmos_ds[variable].units}\n",
    ")\n",
    "\n",
    "plt.figure(figsize=(15, 6))\n",
    "\n",
    "p = plot_a_map(\n",
    "    dec_climatology_press,\n",
    "    grid.isel(tile=tiles),\n",
    "    # vmax=102200,\n",
    "    # vmin=100000,\n",
    ")"
   ]
  },
  {
   "cell_type": "code",
   "execution_count": null,
   "id": "afa726f1-eec6-4ae7-9bb8-ff266d13240a",
   "metadata": {},
   "outputs": [],
   "source": [
    "# plotting a time series - lets use tile 7 as its mostly open ocean\n",
    "# and for the moment, lets pick surface air temperature\n",
    "\n",
    "air_temp_7 = atmos_ds[variable].sel(tile=7)"
   ]
  },
  {
   "cell_type": "code",
   "execution_count": null,
   "id": "85cbe861",
   "metadata": {},
   "outputs": [],
   "source": [
    "# Always check the units! This converts temperature to celsius if its in degrees Kelvin\n",
    "air_temp_degC = (air_temp_7 - 272.15).assign_attrs({'units':'Deg C'})"
   ]
  },
  {
   "cell_type": "code",
   "execution_count": null,
   "id": "7877ef5a-927f-474c-88c5-4622bff6f897",
   "metadata": {},
   "outputs": [],
   "source": [
    "# although if we just plot it, it's at a funny orientation\n",
    "air_temp_degC.mean(dim='time').plot()"
   ]
  },
  {
   "cell_type": "code",
   "execution_count": null,
   "id": "ff358b6c-25e3-4c28-aa08-ec3eb9e70608",
   "metadata": {},
   "outputs": [],
   "source": [
    "# Always check the units! This converts temperature to celsius if its in degrees Kelvin\n",
    "air_temp_degC = (air_temp_7 - 272.15).assign_attrs({'units':'Deg C'})\n",
    "# because its at a weird angle, the commands inside plot() just turn it the right way around\n",
    "air_temp_degC.mean(dim='time').plot(x='j', yincrease=False)\n",
    "\n",
    "# and a random point that I thought seemed nice - Note: I have swapped things around\n",
    "j, i = X_point, Y_point\n",
    "\n",
    "plt.scatter(j, i, s=12, color='green')"
   ]
  },
  {
   "cell_type": "code",
   "execution_count": null,
   "id": "de140b85-1f12-4aad-823c-d5a23bb1783c",
   "metadata": {},
   "outputs": [],
   "source": [
    "# we can plot things in terms of lat and lon... but its a bit of a pain, so we're just going to use the indices\n",
    "# what's going on at that point?\n",
    "air_temp_degC.isel(j=j, i=i).plot()"
   ]
  },
  {
   "cell_type": "code",
   "execution_count": null,
   "id": "c64c4c56-bd13-4971-ac2a-b619b836129d",
   "metadata": {},
   "outputs": [],
   "source": [
    "air_temp_anom = (air_temp_degC - air_temp_degC.mean(dim='time')).groupby('time.year').mean(dim='time')\n",
    "air_temp_anom"
   ]
  },
  {
   "cell_type": "code",
   "execution_count": null,
   "id": "66cd8836-70ea-4fba-93a5-51c7e38435fd",
   "metadata": {},
   "outputs": [],
   "source": [
    "air_temp_anom.isel(i=i, j=j).plot()"
   ]
  },
  {
   "cell_type": "code",
   "execution_count": null,
   "id": "72cbc60f-89ea-4869-a69e-18c49e3e8f6b",
   "metadata": {},
   "outputs": [],
   "source": [
    "# So whats going around the point?\n",
    "air_temp_anom.sel(year=2015).plot(x='j', yincrease=False)\n",
    "plt.scatter(j, i, s=12, color='green')"
   ]
  },
  {
   "cell_type": "markdown",
   "id": "6d1294da-8ed6-40f0-9a0c-accd0fe31cd8",
   "metadata": {},
   "source": [
    "### *take-away questions*\n",
    "- Which year seems to have the most extreme values?\n",
    "- What happened to the (atmospheric) surface temperature of this region during 'The Blob' period? How might you show this?\n",
    "- In general, the atmosphere drives the surface ocean, so what might you expect to happen to the vertical structure of the seawater given the information you have just seen?"
   ]
  },
  {
   "cell_type": "markdown",
   "id": "68019891-0f7a-4917-bb0a-6333fa67c8bd",
   "metadata": {},
   "source": [
    "### Part 4: What was the ocean doing?"
   ]
  },
  {
   "cell_type": "code",
   "execution_count": null,
   "id": "5f91cb77-dba4-4071-a94d-c101b8df499b",
   "metadata": {},
   "outputs": [],
   "source": [
    "# Do the same thing for the ocean transport terms.\n",
    "# How do these compare to the surface fluxes? Which are the most important at this location?\n"
   ]
  },
  {
   "cell_type": "markdown",
   "id": "86483ca7-03b6-4f9d-8d08-f00ed9cc1903",
   "metadata": {},
   "source": [
    "### *take-away questions*\n",
    "\n",
    "- What is the heat budget?...\n",
    "- Which of the terms you have seen above is usually the most important in the North East Pacific? Can you think of a simple way of showing that?"
   ]
  },
  {
   "cell_type": "markdown",
   "id": "dd45b025-b7b2-48f7-8b8a-9d60c6a37155",
   "metadata": {},
   "source": [
    "### Part 5: \n",
    "\n",
    "This bit is up to you!\n",
    "\n",
    "Look at the previous bits of code, and have a think about how you could edit them to do your own analysis. **This will be very important for your report**. You don't need to re-write everything, but try picking different variables and seeing if you can build a case for this extreme event being present in them."
   ]
  },
  {
   "cell_type": "code",
   "execution_count": null,
   "id": "8fd0e554-e7e2-4c56-957a-cec6215ff5f0",
   "metadata": {},
   "outputs": [],
   "source": []
  }
 ],
 "metadata": {
  "kernelspec": {
   "display_name": "Python 3 (ipykernel)",
   "language": "python",
   "name": "python3"
  },
  "language_info": {
   "codemirror_mode": {
    "name": "ipython",
    "version": 3
   },
   "file_extension": ".py",
   "mimetype": "text/x-python",
   "name": "python",
   "nbconvert_exporter": "python",
   "pygments_lexer": "ipython3",
   "version": "3.10.9"
  }
 },
 "nbformat": 4,
 "nbformat_minor": 5
}
